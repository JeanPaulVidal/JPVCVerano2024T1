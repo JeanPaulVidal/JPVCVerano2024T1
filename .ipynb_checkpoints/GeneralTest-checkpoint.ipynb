{
 "cells": [
  {
   "cell_type": "code",
   "execution_count": 8,
   "id": "9d5c6c27-614e-452e-b48e-27da36315acf",
   "metadata": {},
   "outputs": [
    {
     "name": "stdout",
     "output_type": "stream",
     "text": [
      "Setup terminado\n"
     ]
    }
   ],
   "source": [
    "import matplotlib.pyplot as plt\n",
    "import CodeBase.Carmen as car\n",
    "import CodeBase.Jean as jen\n",
    "import CodeBase.Mary as mar\n",
    "import CodeBase.Edwin as ed\n",
    "import CodeBase.Ivan as iv\n",
    "print(\"Setup terminado\")"
   ]
  },
  {
   "cell_type": "code",
   "execution_count": 11,
   "id": "1a3a796b-d592-45c8-abff-263fd164571b",
   "metadata": {},
   "outputs": [
    {
     "name": "stdout",
     "output_type": "stream",
     "text": [
      "| Clase     |   Fa |   Fr |   Fr Ac |\n",
      "|-----------+------+------+---------|\n",
      "| Flores    |    4 |    4 |       4 |\n",
      "| Garcia    |   13 |   13 |      17 |\n",
      "| García    |    1 |    1 |      18 |\n",
      "| González  |   12 |   12 |      30 |\n",
      "| Gutiérrez |    4 |    4 |      34 |\n",
      "| Hernández |   15 |   15 |      49 |\n",
      "| López     |   10 |   10 |      59 |\n",
      "| Martinez  |    8 |    8 |      67 |\n",
      "| Martínez  |    4 |    4 |      71 |\n",
      "| Pérez     |    6 |    6 |      77 |\n",
      "| Ramirez   |    4 |    4 |      81 |\n",
      "| Ramírez   |    2 |    2 |      83 |\n",
      "| Rodriguez |    7 |    7 |      90 |\n",
      "| Rodríguez |    2 |    2 |      92 |\n",
      "| Sánchez   |    8 |    8 |     100 |\n"
     ]
    }
   ],
   "source": [
    "\n",
    "\n",
    "datos = [\n",
    "  'Ramírez','Garcia','González','Rodriguez','Pérez','Martínez','Garcia','López','Gutiérrez',\n",
    "    'López','Rodriguez','Martinez','Rodriguez','Hernández','Garcia','Hernández','López',\n",
    "    'Pérez','González','Martínez','Garcia','Ramirez','González','Hernández','García','Gutiérrez',\n",
    "    'Garcia','Rodríguez','Hernández','Sánchez','Hernández','González','Rodriguez','Sánchez','Hernández',\n",
    "    'González','Gutiérrez','Martínez','González','Rodriguez','Rodriguez','Martinez','Ramirez',\n",
    "    'Pérez','Sánchez','Hernández','Hernández','González','Garcia','Hernández','Rodríguez','López',\n",
    "    'Sánchez','Rodriguez','Ramirez','González','López','Martinez','López','Garcia','López','Sánchez',\n",
    "    'Martínez','Garcia','Garcia','Hernández','Garcia','Hernández','Flores','Pérez','González','González'\n",
    "    ,'López','Martinez','González','Martinez','Hernández','Ramirez','López','Sánchez','Ramírez','Gutiérrez'\n",
    "    ,'Sánchez','Flores','Garcia','Martinez','Garcia','Flores','Pérez','López','Hernández','Martinez','Garcia'\n",
    "    ,'Hernández','Flores','Pérez','González','Hernández','Sánchez','Martinez'\n",
    "]\n",
    "\n",
    "clases, fabs = car.frec_abs(datos)\n",
    "clases_sorted = jen.get_clases(clases)\n",
    "fabs_sorted = mar.sort_clases_fa(clases, clases_sorted, fabs)\n",
    "frs = ed.frecRel(fabs_sorted)\n",
    "facumuladas = iv.calcular_frecuencia_acumulada(frs)\n",
    "\n",
    "\n",
    "# Imprimir tabla\n",
    "def printTable(encabezados, contenido):\n",
    "    from tabulate import tabulate\n",
    "    if(len(encabezados) == len(contenido)):\n",
    "        data = list(zip(*contenido))\n",
    "        table = tabulate(data, headers=encabezados, tablefmt=\"orgtbl\")\n",
    "        print(table)\n",
    "\n",
    "printTable([\"Clase\", \"Fa\", \"Fr\", \"Fr Ac\"], [clases_sorted, fabs_sorted, frs, facumuladas])\n"
   ]
  },
  {
   "cell_type": "code",
   "execution_count": null,
   "id": "7f2a666e-8cbe-4f9e-a7fe-1b6fdb0167ef",
   "metadata": {},
   "outputs": [],
   "source": []
  }
 ],
 "metadata": {
  "kernelspec": {
   "display_name": "Python 3 (ipykernel)",
   "language": "python",
   "name": "python3"
  },
  "language_info": {
   "codemirror_mode": {
    "name": "ipython",
    "version": 3
   },
   "file_extension": ".py",
   "mimetype": "text/x-python",
   "name": "python",
   "nbconvert_exporter": "python",
   "pygments_lexer": "ipython3",
   "version": "3.12.2"
  }
 },
 "nbformat": 4,
 "nbformat_minor": 5
}
